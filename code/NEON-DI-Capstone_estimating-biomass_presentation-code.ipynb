{
 "cells": [
  {
   "cell_type": "markdown",
   "metadata": {
    "slideshow": {
     "slide_type": "slide"
    }
   },
   "source": [
    "<img src=\"https://raw.githubusercontent.com/anaito/neon-biomass/master/images/intro_photo3.png?token=Ab3JfiXO1zkaLvEt69KfkaGaRJ6acjr9ks5ZV5Y2wA%3D%3D\" align=\"right\">\n",
    "      \n",
    "      \n",
    "# Estimating aboveground biomass from LIDAR at Ordway-Swisher Biological Station (OSBS), Florida, United States\n",
    "\n",
    "## Ga&#235;lle Blanvillain, Adam T. Naito, Guillermo E. Ponce-Campos, A. Christine Swanson, Wubishet Tadesse, Phumudzo Tharaga\n",
    "\n",
    "\n",
    "\n",
    "### NEON Data Institute 2017\n",
    "\n",
    "#### 4 June 2017\n",
    "#### Boulder, CO, USA\n"
   ]
  },
  {
   "cell_type": "markdown",
   "metadata": {
    "slideshow": {
     "slide_type": "slide"
    }
   },
   "source": [
    "\n",
    "## Introduction \\&#092;\n",
    "\n",
    "\n",
    "<img src=\"https://raw.githubusercontent.com/thatsciencegal/neon-biomass/master/images/lidar_point_cloud.png?token=Ab3JfpBpjElRfJWFSpd-7dcsoZh15m19ks5ZVwsDwA%3D%3D\" width=\"40%\" align=\"right\">\n",
    "\n",
    "LiDAR-derived products such as canopy height models (CHM) provide a valuable foundation for estimating a variety of ecological measures, including aboveground biomass (AB).\n",
    "\n",
    "Processing of CHM models in association with field data and allometric equations provide a basis for estimating AB.\n",
    "\n",
    "  \n",
    "  <sub>image courtesy of A. Christine Swanson</sub>\n"
   ]
  },
  {
   "cell_type": "markdown",
   "metadata": {
    "slideshow": {
     "slide_type": "slide"
    }
   },
   "source": [
    "## Objective \\&#092;\n",
    "\n",
    "* We sought to quantify disturbance effects  on aboveground mass in Ordway-Swisher Biological Station in Putnam County, Florida, using LiDAR-derived canopy height models from NEON’S AOP flights in 2014 and 2016.\n",
    "\n",
    "* In an effort to focus our efforts and develop a template for future work, we focused on a single land management unit that underwent a prescribed burn in 2015.\n",
    "\n",
    "* We initially hypothesized that we would see a small reduction in biomass from 2014 to 2016.\n"
   ]
  },
  {
   "cell_type": "markdown",
   "metadata": {
    "slideshow": {
     "slide_type": "slide"
    }
   },
   "source": [
    "## Study Area \\&#092;\n",
    "\n",
    "\n",
    "\n",
    "<img src=\"https://raw.githubusercontent.com/thatsciencegal/neon-biomass/master/images/VegCom.png?token=Ab3Jfo68fcGIPBxVMdHuoiJcw29pYfBxks5ZVwtwwA%3D%3D\" width=\"80%\">\n",
    "\n",
    "<sub>map produced by A. Christine Swanson</sub>"
   ]
  },
  {
   "cell_type": "markdown",
   "metadata": {
    "slideshow": {
     "slide_type": "slide"
    }
   },
   "source": [
    "![site_photo](https://raw.githubusercontent.com/anaito/neon-biomass/master/images/site_photo2.png?token=Ab3Jfoig7LMpq0iL14bzKbZb5LzljsXDks5ZV5WUwA%3D%3D)\n",
    "\n",
    "\n",
    "<sub>photo courtesy of A. Christine Swanson</sub>\n"
   ]
  },
  {
   "cell_type": "markdown",
   "metadata": {
    "slideshow": {
     "slide_type": "slide"
    }
   },
   "source": [
    "## Methods \\&#92;\n",
    "\n",
    "\n",
    "We first acquired boundary information of Management Unit B-4 (22.8 ha), which was burned on 22 April 2015.\n",
    "\n",
    "<img src=\"https://raw.githubusercontent.com/anaito/neon-biomass/master/images/color_chm.png?token=Ab3Jfor07iBJNp7ruXArZWNl7omcvzt_ks5ZVxUYwA%3D%3D\" width=\"80%\">\n",
    "\n",
    "<sub>map produced by A. Christine Swanson</sub>\n"
   ]
  },
  {
   "cell_type": "markdown",
   "metadata": {
    "slideshow": {
     "slide_type": "slide"
    }
   },
   "source": [
    "## Methods \\&#92;\n",
    "\n",
    "\n",
    "\n",
    "\n",
    "Adapted the biomass estimate functions in Python from the Day 4 Exercise to operate on the OSBS data.\n"
   ]
  },
  {
   "cell_type": "markdown",
   "metadata": {
    "slideshow": {
     "slide_type": "subslide"
    }
   },
   "source": [
    "### <sub>Calculating local maximum points over the smoothed CHM</sub>\n",
    "\n",
    "In the following code, we calculated the local maximum values.  When conducting this calculation for the San Joaquin Experimental Range site, we used a footprint of (5m x 5m) in the calculation of the peak local maximum.  For a more dense forest stand such as the one here at OSBS, we are assuming a smaller footprint is required."
   ]
  },
  {
   "cell_type": "markdown",
   "metadata": {
    "collapsed": true,
    "slideshow": {
     "slide_type": "subslide"
    }
   },
   "source": [
    "#Calculate local maximum points in the smoothed CHM\n",
    "local_maxi = peak_local_max(chm_array_smooth, \\\n",
    "        indices=False, footprint=np.ones((2, 2)))"
   ]
  },
  {
   "cell_type": "markdown",
   "metadata": {
    "slideshow": {
     "slide_type": "slide"
    }
   },
   "source": [
    "## Methods \\&#92;\n",
    "\n",
    "### <sub>Field data for training the classification</sub>\n",
    "\n",
    "\n",
    "\n",
    "We devised training data for diameter, tree height, and canopy dimensions from personal experience by Swanson.\n",
    "\n",
    "We used these data to calculate crown volume and estimate aboveground biomass using the following equation generalizable for pine in the U.S.\n",
    "\n",
    "<img src=\"https://raw.githubusercontent.com/anaito/neon-biomass/master/images/equation.png?token=Ab3JfiqI1JogMLXLnpnvQP0E6XEUZrZyks5ZVymowA%3D%3D\">\n",
    "\n",
    "\n",
    "\n",
    "\n",
    "\n",
    "These new training data were fed into the Random Forest regression model in Python.\n"
   ]
  },
  {
   "cell_type": "markdown",
   "metadata": {
    "slideshow": {
     "slide_type": "slide"
    }
   },
   "source": [
    "## Results \\&#092;\n",
    "\n",
    "<img src=\"https://raw.githubusercontent.com/anaito/neon-biomass/master/images/biomass_comparison.png?token=Ab3JfriBjgk07mYWT4h1xrfDNrldLR8Oks5ZVyi8wA%3D%3D\" width=\"100%\">\n"
   ]
  },
  {
   "cell_type": "markdown",
   "metadata": {
    "slideshow": {
     "slide_type": "slide"
    }
   },
   "source": [
    "## Discussion \\&#092;\n",
    "### <sub>Explanations for trends we observed</sub>\n",
    "\n",
    "\n",
    "\n",
    "* While the direction of change may not necessarily be expected, the magnitude of change appears reasonable.\n",
    "\n",
    "\n",
    "* Regrowth could explain the increase in biomass, especially since the burn took place in April 2015 and NEON acquired the LiDAR in September 2016 (2 growing seasons later)\n",
    "\n",
    "\n",
    "* Nutrient inputs from the burn and large amount of rain at the site might have stimulated the growth of large existing pines, potentially explaining the increase in biomass."
   ]
  },
  {
   "cell_type": "markdown",
   "metadata": {
    "slideshow": {
     "slide_type": "slide"
    }
   },
   "source": [
    "## Discussion \\&#092;\n",
    "### <sub>Limitations to our approach</sub>\n",
    "\n",
    "The training data uses randomly generated values within logical ranges for diameter and height of <em>P. palustris</em>.\n",
    "\n",
    "<img src=\"https://raw.githubusercontent.com/anaito/neon-biomass/master/images/training_table_reformat.png?token=Ab3JfoNT2mKNuV21XA5LT_l7McQslGiVks5ZVyz4wA%3D%3D\" width=\"40%\">\n",
    "\n",
    "\n",
    "\n"
   ]
  },
  {
   "cell_type": "markdown",
   "metadata": {
    "slideshow": {
     "slide_type": "slide"
    }
   },
   "source": [
    "## Discussion \\&#092;\n",
    "### <sub>Limitations to our approach</sub>\n",
    "\n",
    "\n",
    "Further experimentation with the moving window parameters for identify local maxima and the crown segmentation algorithm is needed to identify more site-specific parameters.\n",
    "\n",
    "\n",
    "\n"
   ]
  },
  {
   "cell_type": "markdown",
   "metadata": {
    "slideshow": {
     "slide_type": "slide"
    }
   },
   "source": [
    "## Conclusion \\&#092;\n",
    "\n",
    "\n",
    "\n",
    "<img src=\"https://raw.githubusercontent.com/anaito/neon-biomass/master/images/prescribed_burn2.png?token=Ab3JfldSCbUNOxOX-TVeJsc1efgkY-oDks5ZVy72wA%3D%3D\" width=\"60%\">\n",
    "\n",
    "\n",
    "As more LiDAR becomes available, along with refinements to the training data (i.e., field data) and improvements to the coding, we now have a foundation for more sophisticated and intensive analyses to quantify ecological responses to anthropogenic and natural disturbances over larger spatial and temporal scales.\n"
   ]
  },
  {
   "cell_type": "markdown",
   "metadata": {
    "slideshow": {
     "slide_type": "skip"
    }
   },
   "source": []
  },
  {
   "cell_type": "markdown",
   "metadata": {
    "slideshow": {
     "slide_type": "skip"
    }
   },
   "source": [
    "## Complete Python code follows below"
   ]
  },
  {
   "cell_type": "code",
   "execution_count": 1,
   "metadata": {
    "collapsed": true,
    "slideshow": {
     "slide_type": "skip"
    }
   },
   "outputs": [],
   "source": [
    "import numpy as np\n",
    "import os\n",
    "import gdal, osr\n",
    "import matplotlib.pyplot as plt\n",
    "import sys\n",
    "from scipy import ndimage as ndi\n",
    "%matplotlib inline"
   ]
  },
  {
   "cell_type": "code",
   "execution_count": 2,
   "metadata": {
    "collapsed": true,
    "slideshow": {
     "slide_type": "skip"
    }
   },
   "outputs": [],
   "source": [
    "# Import libraries specific to biomass calculations\n",
    "from skimage.morphology import watershed             # Delineating individual tree crowns\n",
    "from skimage.feature import peak_local_max           # Calculating predictor variables for all individuals\n",
    "from skimage.measure import regionprops              # Collecting training data\n",
    "from sklearn.ensemble import RandomForestRegressor   # Applying a regression model to estiamte biomass from predictors\n"
   ]
  },
  {
   "cell_type": "code",
   "execution_count": 3,
   "metadata": {
    "collapsed": true,
    "slideshow": {
     "slide_type": "skip"
    }
   },
   "outputs": [],
   "source": [
    "#Define plot band array function\n",
    "def plot_band_array(band_array,image_extent,title,cmap_title,colormap,colormap_limits):\n",
    "    plt.imshow(band_array,extent=image_extent)\n",
    "    cbar = plt.colorbar(); plt.set_cmap(colormap); plt.clim(colormap_limits)\n",
    "    cbar.set_label(cmap_title,rotation=270,labelpad=20)\n",
    "    plt.title(title); ax = plt.gca()\n",
    "    ax.ticklabel_format(useOffset=False, style='plain') \n",
    "    rotatexlabels = plt.setp(ax.get_xticklabels(),rotation=90)\n",
    "def array2raster(newRasterfn,rasterOrigin,pixelWidth,pixelHeight,array,epsg):\n",
    "\n",
    "    cols = array.shape[1]\n",
    "    rows = array.shape[0]\n",
    "    originX = rasterOrigin[0]\n",
    "    originY = rasterOrigin[1]\n",
    "\n",
    "    driver = gdal.GetDriverByName('GTiff')\n",
    "    outRaster = driver.Create(newRasterfn, cols, rows, 1, gdal.GDT_Float32)\n",
    "    outRaster.SetGeoTransform((originX, pixelWidth, 0, originY, 0, pixelHeight))\n",
    "    outband = outRaster.GetRasterBand(1)\n",
    "    outband.WriteArray(array)\n",
    "    outRasterSRS = osr.SpatialReference()\n",
    "    outRasterSRS.ImportFromEPSG(epsg)\n",
    "    outRaster.SetProjection(outRasterSRS.ExportToWkt())\n",
    "    outband.FlushCache()"
   ]
  },
  {
   "cell_type": "markdown",
   "metadata": {
    "slideshow": {
     "slide_type": "skip"
    }
   },
   "source": [
    "## Global variables\n",
    "Here, you can setup the year you want to process along with the training file to use."
   ]
  },
  {
   "cell_type": "code",
   "execution_count": 4,
   "metadata": {
    "collapsed": true,
    "slideshow": {
     "slide_type": "skip"
    }
   },
   "outputs": [],
   "source": [
    "# Set year to process\n",
    "yr = '2016'\n",
    "\n",
    "# Set CHM for 2014\n",
    "#chm_file = '2014_CHM_OSBS.tif'\n",
    "\n",
    "# Set CHM for 2016\n",
    "chm_file = '2016_CHM_OSBS.tif'\n",
    "\n",
    "# Set training file\n",
    "tr_file = 'pine_training.csv'\n",
    "\n",
    "# Footprint "
   ]
  },
  {
   "cell_type": "code",
   "execution_count": 5,
   "metadata": {
    "collapsed": true,
    "slideshow": {
     "slide_type": "skip"
    }
   },
   "outputs": [],
   "source": [
    "# Open the CHM file with gdal\n",
    "chm_dataset = gdal.Open(chm_file)\n",
    "\n",
    "# Get our raster band\n",
    "chm_raster = chm_dataset.GetRasterBand(1)\n",
    "\n",
    "# Get No Data Value\n",
    "\n",
    "noDataVal = chm_raster.GetNoDataValue()\n",
    "\n",
    "# Get Meta data\n",
    "cols_chm = chm_dataset.RasterXSize\n",
    "rows_chm = chm_dataset.RasterYSize\n",
    "bands_chm = chm_dataset.RasterCount\n",
    "mapinfo_chm = chm_dataset.GetGeoTransform()\n",
    "\n",
    "xMin = mapinfo_chm[0]\n",
    "yMax = mapinfo_chm[3]\n",
    "\n",
    "xMax = xMin + chm_dataset.RasterXSize/mapinfo_chm[1]\n",
    "yMin = yMax + chm_dataset.RasterYSize/mapinfo_chm[5]\n",
    "\n",
    "image_extent = (xMin,xMax, yMin, yMax)"
   ]
  },
  {
   "cell_type": "markdown",
   "metadata": {
    "slideshow": {
     "slide_type": "skip"
    }
   },
   "source": [
    "### Canopy Height Model (CHM)\n",
    "Displaying the plot with CHM image"
   ]
  },
  {
   "cell_type": "code",
   "execution_count": 6,
   "metadata": {
    "collapsed": false,
    "slideshow": {
     "slide_type": "skip"
    }
   },
   "outputs": [
    {
     "data": {
      "image/png": "[encoded data removed]",
      "text/plain": [
       "<matplotlib.figure.Figure at 0x11f9a3c88>"
      ]
     },
     "metadata": {},
     "output_type": "display_data"
    }
   ],
   "source": [
    "plt.figure(1)\n",
    "chm_array = chm_raster.ReadAsArray(0,0,cols_chm,rows_chm).astype(np.float)\n",
    "plot_band_array(chm_array, image_extent, 'Canopy Height Model for year '+ yr, 'Canopy Height (m)', 'Greens', [0,30])\n",
    "plt.savefig('Canopy_'+yr+'_OSBS.png',dpi=300,orientation='landscape', \\\n",
    "            bbox_inches='tight',pad_inches=0.1)"
   ]
  },
  {
   "cell_type": "markdown",
   "metadata": {
    "slideshow": {
     "slide_type": "skip"
    }
   },
   "source": [
    "## Smoothing process (Gaussian filter)\n",
    "This process is intended to be used for removing spurious points from the original CHM"
   ]
  },
  {
   "cell_type": "code",
   "execution_count": 7,
   "metadata": {
    "collapsed": true,
    "slideshow": {
     "slide_type": "skip"
    }
   },
   "outputs": [],
   "source": [
    "# Smooth the CHM using a gaussian filter to remove spurious points\n",
    "# Parameter 2 = standard deviations \n",
    "chm_array_smooth = ndi.gaussian_filter(chm_array,2, mode='constant', truncate=2.0)\n",
    "# To maintain same structure of the CHM before the smoothing.\n",
    "chm_array_smooth[chm_array==0]=0"
   ]
  },
  {
   "cell_type": "code",
   "execution_count": 8,
   "metadata": {
    "collapsed": true,
    "slideshow": {
     "slide_type": "skip"
    }
   },
   "outputs": [],
   "source": [
    "# Save array as raster\n",
    "array2raster('OSBS_'+yr+'_chm_filter.tif', \\\n",
    "             (xMin,yMax), 1, -1,np.array(chm_array_smooth/10000,dtype=float),32617)\n"
   ]
  },
  {
   "cell_type": "markdown",
   "metadata": {
    "slideshow": {
     "slide_type": "skip"
    }
   },
   "source": [
    "### Calculating local maximum points over the smoothed CHM\n",
    "Here, the local maximum values are calculated.  During our lesson for San Joaquin site Savanna-Oak we use a footprint of 5,5 in the calculation of the peak local maximum.  For a more dense file we are assuming a lower foot print is required. However, further investigation is required to identify how sensitive is the local max algorithm to the gaussian filter applied.  "
   ]
  },
  {
   "cell_type": "code",
   "execution_count": 9,
   "metadata": {
    "collapsed": true,
    "slideshow": {
     "slide_type": "skip"
    }
   },
   "outputs": [],
   "source": [
    "#Calculate local maximum points in the smoothed CHM\n",
    "local_maxi = peak_local_max(chm_array_smooth, \\\n",
    "        indices=False, footprint=np.ones((2, 2)))"
   ]
  },
  {
   "cell_type": "code",
   "execution_count": 10,
   "metadata": {
    "collapsed": false,
    "slideshow": {
     "slide_type": "skip"
    }
   },
   "outputs": [
    {
     "data": {
      "image/png": "[encoded data removed]",
      "text/plain": [
       "<matplotlib.figure.Figure at 0x11f9a3898>"
      ]
     },
     "metadata": {},
     "output_type": "display_data"
    }
   ],
   "source": [
    "plt.figure(2)\n",
    "plot_band_array(local_maxi,image_extent, 'Maximum for year '+yr, 'Maxi', 'Greys',[0, 1])\n",
    "plt.savefig('LocalMaximum_'+yr+'_OSBS.png',dpi=300,orientation='landscape', \\\n",
    "            bbox_inches='tight',pad_inches=0.1)"
   ]
  },
  {
   "cell_type": "code",
   "execution_count": 11,
   "metadata": {
    "collapsed": true,
    "slideshow": {
     "slide_type": "skip"
    }
   },
   "outputs": [],
   "source": [
    "# Assign unique IDS to all maximum points\n",
    "markers = ndi.label(local_maxi)[0]\n"
   ]
  },
  {
   "cell_type": "code",
   "execution_count": 12,
   "metadata": {
    "collapsed": true,
    "slideshow": {
     "slide_type": "skip"
    }
   },
   "outputs": [],
   "source": [
    "# Create a mask, zero for ground, 1 for trees\n",
    "chm_mask = chm_array_smooth\n",
    "chm_mask[chm_array_smooth !=0]=1"
   ]
  },
  {
   "cell_type": "code",
   "execution_count": 13,
   "metadata": {
    "collapsed": true,
    "slideshow": {
     "slide_type": "skip"
    }
   },
   "outputs": [],
   "source": [
    "# Perform watershed segmentation\n",
    "labels = watershed(chm_array_smooth, markers, mask=chm_mask)"
   ]
  },
  {
   "cell_type": "code",
   "execution_count": 14,
   "metadata": {
    "collapsed": true,
    "slideshow": {
     "slide_type": "skip"
    }
   },
   "outputs": [],
   "source": [
    "# Get the properties of tree crowns to collect some \n",
    "tree_properties = regionprops(labels,chm_array, \\\n",
    "                              ['Area','BoundingBox', \\\n",
    "                               'Centroid', 'Orientation', \\\n",
    "                               'MajorAxisLength','MinorAxisLength', \\\n",
    "                               'MaxIntensity','MinIntensity'])\n"
   ]
  },
  {
   "cell_type": "code",
   "execution_count": 15,
   "metadata": {
    "collapsed": true,
    "slideshow": {
     "slide_type": "skip"
    }
   },
   "outputs": [],
   "source": [
    "#Determine how many trees identified\n",
    "max_labels = labels.max()\n",
    "segment_labels = np.zeros(max_labels+1)\n",
    "segment_id = np.zeros(max_labels+1)\n",
    "\n",
    "for counter in range(1,max_labels+1):\n",
    "    segment_labels[counter] = len(labels[labels==counter])\n",
    "    segment_id[counter]=counter\n",
    "segment_id = segment_id[np.nonzero(segment_labels)]"
   ]
  },
  {
   "cell_type": "code",
   "execution_count": 16,
   "metadata": {
    "collapsed": false,
    "slideshow": {
     "slide_type": "skip"
    }
   },
   "outputs": [
    {
     "data": {
      "image/png": "[encoded data removed]",
      "text/plain": [
       "<matplotlib.figure.Figure at 0x1201e52e8>"
      ]
     },
     "metadata": {},
     "output_type": "display_data"
    }
   ],
   "source": [
    "labels = np.array((labels), dtype = float)\n",
    "#import pandas as pd\n",
    "#pl = pd.DataFrame(labels)\n",
    "#print(pl[~np.isnan(pl) & pl > 0.0])\n",
    "\n",
    "plt.figure(3)\n",
    "labels[labels==0] = np.nan\n",
    "\n",
    "plot_band_array(labels, image_extent, 'Crown Segmentation for '+yr,'Tree Crown Number', \\\n",
    "               'Spectral', [0, max_labels])\n",
    "plt.savefig('Segmented_'+yr+'_OSBS.png',dpi=300,orientation='landscape', \\\n",
    "            bbox_inches='tight',pad_inches=0.1)"
   ]
  },
  {
   "cell_type": "code",
   "execution_count": 17,
   "metadata": {
    "collapsed": true,
    "slideshow": {
     "slide_type": "skip"
    }
   },
   "outputs": [],
   "source": [
    "array2raster(yr+'_OSBS_SegmentedData.tif', (xMin,yMax),1, -1, labels, 3261)"
   ]
  },
  {
   "cell_type": "code",
   "execution_count": 18,
   "metadata": {
    "collapsed": true,
    "slideshow": {
     "slide_type": "skip"
    }
   },
   "outputs": [],
   "source": [
    "# Define predictor variables\n",
    "area = np.zeros(len(tree_properties))\n",
    "diameter = np.zeros(len(tree_properties))\n",
    "max_tree_height = np.zeros(len(tree_properties))\n",
    "min_tree_height = np.zeros(len(tree_properties))\n"
   ]
  },
  {
   "cell_type": "code",
   "execution_count": 19,
   "metadata": {
    "collapsed": true,
    "slideshow": {
     "slide_type": "skip"
    }
   },
   "outputs": [],
   "source": [
    "# Retrieve predictor variables from region props output\n",
    "for counter in range(0, len(tree_properties)):\n",
    "    area[counter] = tree_properties[counter]['Area']\n",
    "    diameter[counter] = tree_properties[counter]['MajorAxisLength']\n",
    "    max_tree_height[counter] = tree_properties[counter]['MaxIntensity']\n",
    "    min_tree_height[counter] = tree_properties[counter]['MinIntensity']\n"
   ]
  },
  {
   "cell_type": "code",
   "execution_count": 20,
   "metadata": {
    "collapsed": true,
    "slideshow": {
     "slide_type": "skip"
    }
   },
   "outputs": [],
   "source": [
    "# Define remaining predictor variable\n",
    "crown_geometric_volume_full = np.zeros(len(segment_id))\n",
    "crown_geometric_volume_50th_percentile = np.zeros(len(segment_id))\n",
    "crown_geometric_volume_60th_percentile = np.zeros(len(segment_id))\n",
    "crown_geometric_volume_70th_percentile = np.zeros(len(segment_id))\n",
    "\n",
    "percentile_50th = np.zeros(len(segment_id))\n",
    "percentile_60th = np.zeros(len(segment_id))\n",
    "percentile_70th = np.zeros(len(segment_id))\n"
   ]
  },
  {
   "cell_type": "code",
   "execution_count": 21,
   "metadata": {
    "collapsed": true,
    "slideshow": {
     "slide_type": "skip"
    }
   },
   "outputs": [],
   "source": [
    "counter = 0\n",
    "for segment in segment_id:\n",
    "    # Pull out the tree of interest\n",
    "    index_of_tree = np.asarray(np.where(labels==segment)).T\n",
    "    tree_data = chm_array[index_of_tree[:,0],index_of_tree[:,1]]\n",
    "    crown_geometric_volume_full[counter] = \\\n",
    "    np.sum([tree_data-np.min(tree_data)])\n",
    "    \n",
    "    #50th percentile stats\n",
    "    percentile_50th[counter] = np.percentile(tree_data,50)\n",
    "    tree_data_50th = chm_array[index_of_tree[:,0],index_of_tree[:,1]]\n",
    "    tree_data_50th[tree_data_50th > percentile_50th[counter]] = \\\n",
    "    percentile_50th[counter]\n",
    "    crown_geometric_volume_50th_percentile[counter]= \\\n",
    "    np.sum([tree_data_50th - min_tree_height[counter]])\n",
    "    \n",
    "    #60th percentile stats\n",
    "    percentile_60th[counter] = np.percentile(tree_data,60)\n",
    "    tree_data_60th = chm_array[index_of_tree[:,0],index_of_tree[:,1]]\n",
    "    tree_data_60th[tree_data_60th > percentile_60th[counter]] = \\\n",
    "    percentile_60th[counter]\n",
    "    crown_geometric_volume_60th_percentile[counter]= \\\n",
    "    np.sum([tree_data_60th - min_tree_height[counter]])\n",
    "    \n",
    "    #50th percentile stats\n",
    "    percentile_70th[counter] = np.percentile(tree_data,70)\n",
    "    tree_data_70th = chm_array[index_of_tree[:,0],index_of_tree[:,1]]\n",
    "    tree_data_70th[tree_data_70th > percentile_70th[counter]] = \\\n",
    "    percentile_70th[counter]\n",
    "    crown_geometric_volume_70th_percentile[counter]= \\\n",
    "    np.sum([tree_data_70th - min_tree_height[counter]])  \n",
    "    \n",
    "    counter = counter + 1"
   ]
  },
  {
   "cell_type": "code",
   "execution_count": 22,
   "metadata": {
    "collapsed": true,
    "slideshow": {
     "slide_type": "skip"
    }
   },
   "outputs": [],
   "source": [
    "# Get the training\n",
    "#Define the file of training data  \n",
    "training_data_file = tr_file\n",
    "\n",
    "#Read in the training data from a CSV file\n",
    "training_data = np.genfromtxt(training_data_file,delimiter=',') \n",
    "\n",
    "#Grab the biomass (Y) from the first line\n",
    "biomass = training_data[:,0]\n",
    "\n",
    "#Grab the biomass prdeictors from the remaining lines\n",
    "biomass_predictors = training_data[:,1:12]"
   ]
  },
  {
   "cell_type": "code",
   "execution_count": 23,
   "metadata": {
    "collapsed": false,
    "slideshow": {
     "slide_type": "skip"
    }
   },
   "outputs": [
    {
     "data": {
      "text/plain": [
       "RandomForestRegressor(bootstrap=True, criterion='mse', max_depth=30,\n",
       "           max_features='auto', max_leaf_nodes=None,\n",
       "           min_impurity_split=1e-07, min_samples_leaf=1,\n",
       "           min_samples_split=2, min_weight_fraction_leaf=0.0,\n",
       "           n_estimators=10, n_jobs=1, oob_score=False, random_state=2,\n",
       "           verbose=0, warm_start=False)"
      ]
     },
     "execution_count": 23,
     "metadata": {},
     "output_type": "execute_result"
    }
   ],
   "source": [
    "#Define paraemters for Random forest regressor\n",
    "max_depth = 30\n",
    "\n",
    "#Define regressor rules\n",
    "regr_rf = RandomForestRegressor(max_depth=max_depth, random_state=2)\n",
    "\n",
    "#Fit the biomass to regressor variables\n",
    "regr_rf.fit(biomass_predictors,biomass)\n"
   ]
  },
  {
   "cell_type": "code",
   "execution_count": 24,
   "metadata": {
    "collapsed": true,
    "slideshow": {
     "slide_type": "skip"
    }
   },
   "outputs": [],
   "source": [
    "#Stack the predictor variables for all the individual trees\n",
    "all_training_data = np.stack([area,diameter,max_tree_height,\\\n",
    "                              min_tree_height,percentile_50th,\\\n",
    "                              percentile_60th,percentile_70th,\\\n",
    "                              crown_geometric_volume_full,\\\n",
    "                              crown_geometric_volume_50th_percentile,\\\n",
    "                              crown_geometric_volume_60th_percentile,\\\n",
    "                              crown_geometric_volume_70th_percentile],\\\n",
    "                              axis=-1)\n"
   ]
  },
  {
   "cell_type": "code",
   "execution_count": 25,
   "metadata": {
    "collapsed": true,
    "slideshow": {
     "slide_type": "skip"
    }
   },
   "outputs": [],
   "source": [
    "#Apply the model to the \n",
    "pred_biomass = regr_rf.predict(all_training_data)"
   ]
  },
  {
   "cell_type": "code",
   "execution_count": 26,
   "metadata": {
    "collapsed": true,
    "slideshow": {
     "slide_type": "skip"
    }
   },
   "outputs": [],
   "source": [
    "#Set an out raster with the same size as the labels\n",
    "biomass_out = labels\n",
    "\n",
    "#Set counter to zero\n",
    "counter = 0\n",
    "#Assign each tree by the associated biomass\n",
    "for segment in segment_id:\n",
    "    biomass_out[biomass_out==segment] = pred_biomass[counter]\n",
    "    counter = counter+1"
   ]
  },
  {
   "cell_type": "code",
   "execution_count": 27,
   "metadata": {
    "collapsed": false,
    "slideshow": {
     "slide_type": "skip"
    }
   },
   "outputs": [
    {
     "name": "stdout",
     "output_type": "stream",
     "text": [
      "Sum of biomass for yr 2016 414591.322428  kg\n"
     ]
    },
    {
     "data": {
      "image/png": "[encoded data removed]",
      "text/plain": [
       "<matplotlib.figure.Figure at 0x121c040b8>"
      ]
     },
     "metadata": {},
     "output_type": "display_data"
    }
   ],
   "source": [
    "#Get biomass stats for plotting\n",
    "mean_biomass = np.mean(pred_biomass)\n",
    "std_biomass = np.std(pred_biomass)\n",
    "min_biomass = np.min(pred_biomass)\n",
    "sum_biomass = np.sum(pred_biomass)\n",
    "\n",
    "print('Sum of biomass for yr '+yr,sum_biomass,' kg')\n",
    "\n",
    "#Plot the biomass!\n",
    "plt.figure(5)\n",
    "plot_band_array(biomass_out,image_extent,'Biomass (kg) for year '+yr,'Biomass (kg)','winter',[min_biomass+std_biomass, mean_biomass+std_biomass*3])\n",
    "plt.savefig('Biomass_'+yr+'_OSBS.png',dpi=300,orientation='landscape', \\\n",
    "            bbox_inches='tight',pad_inches=0.1)"
   ]
  },
  {
   "cell_type": "code",
   "execution_count": null,
   "metadata": {
    "collapsed": true,
    "slideshow": {
     "slide_type": "skip"
    }
   },
   "outputs": [],
   "source": []
  }
 ],
 "metadata": {
  "celltoolbar": "Slideshow",
  "kernelspec": {
   "display_name": "Python 3.4 NEON-RSDI",
   "language": "python",
   "name": "py34"
  },
  "language_info": {
   "codemirror_mode": {
    "name": "ipython",
    "version": 3
   },
   "file_extension": ".py",
   "mimetype": "text/x-python",
   "name": "python",
   "nbconvert_exporter": "python",
   "pygments_lexer": "ipython3",
   "version": "3.4.5"
  }
 },
 "nbformat": 4,
 "nbformat_minor": 2
}
